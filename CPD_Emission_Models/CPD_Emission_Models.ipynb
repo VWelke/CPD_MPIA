{
 "cells": [
  {
   "cell_type": "markdown",
   "id": "10730f94",
   "metadata": {},
   "source": [
    "### 1. Zhu et al , 2018 : On the radio detectability of circumplanetary discs\n",
    "\n",
    "\n",
    "\n",
    "Key formula: "
   ]
  },
  {
   "cell_type": "markdown",
   "id": "550affea",
   "metadata": {},
   "source": []
  }
 ],
 "metadata": {
  "language_info": {
   "name": "python"
  }
 },
 "nbformat": 4,
 "nbformat_minor": 5
}
