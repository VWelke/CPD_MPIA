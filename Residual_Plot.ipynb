{
 "cells": [
  {
   "cell_type": "markdown",
   "id": "5e9149ce",
   "metadata": {},
   "source": [
    "# Residual Plot Analysis — ExoALMA Data\n",
    "\n",
    "This notebook analyzes residual plots from the ExoALMA program (Curone et al. 2025, Paper IV) to extract flux limits potentially associated with planet-forming signatures within the annuli of protoplanetary disks. The aim is not to spatially characterize these features — which are likely unresolved — but to constrain potential circumplanetary disk (CPD) properties using up-to-date CPD emission models, and to compare model performance in terms of predictive power.\n",
    "\n",
    "**Reference**:  \n",
    "Curone, P., Facchini, S., Andrews, S. M., et al. (2025). *exoALMA. IV. Substructures, Asymmetries, and the Faint Outer Disk in Continuum Emission*. *The Astrophysical Journal Letters*, **984**(1), L9. https://doi.org/10.3847/2041-8213/adc438\n"
   ]
  },
  {
   "cell_type": "code",
   "execution_count": 1,
   "id": "989a3f01",
   "metadata": {},
   "outputs": [
    {
     "name": "stderr",
     "output_type": "stream",
     "text": [
      "c:\\Users\\LHEM\\AppData\\Local\\Programs\\Python\\Python312\\Lib\\site-packages\\gofish\\gofish.py:3619: SyntaxWarning: invalid escape sequence '\\-'\n",
      "  \"\"\"\n"
     ]
    }
   ],
   "source": [
    "# import necessary libraries\n",
    "\n",
    "import os  \n",
    "import numpy as np  \n",
    "import re  # Python’s regular expressions module to extract numbers from filenames\n",
    "from astropy.io import fits\n",
    "import pandas as pd\n",
    "from gofish import imagecube\n",
    "import matplotlib.pyplot as plt\n",
    "\n"
   ]
  },
  {
   "cell_type": "code",
   "execution_count": 7,
   "id": "6084eb63",
   "metadata": {},
   "outputs": [],
   "source": [
    "# Load the residual fits file for each disk and store them in class then in object  \n",
    "\n",
    "# --------------------------------------------------------\n",
    "# Define a class (stores functions) for handling each disk\n",
    "# --------------------------------------------------------\n",
    "class DiskResiduals:\n",
    "    def __init__(self, name, path, geom_file):\n",
    "        \"\"\"\n",
    "        Initializes a DiskResiduals object for one disk.\n",
    "        - name: Disk name (e.g., 'AA_Tau')\n",
    "        - path: Path to its residuals folder\n",
    "        - geom_file: Full path to geometry .txt file\n",
    "        \"\"\"\n",
    "        self.name = name\n",
    "        self.path = path\n",
    "        self.inc, self.PA, self.center = self._load_geometry(geom_file)\n",
    "        self.residuals = {}  # Dict to store {Briggs index value: FITS data}\n",
    "\n",
    "    def _load_geometry(self, filepath):\n",
    "        \"\"\"\n",
    "        Reads a galario geometry .txt file and returns (inc, PA, (dRA, dDec)).\n",
    "        \"\"\"\n",
    "        with open(filepath, \"r\") as f:\n",
    "            lines = [line for line in f.readlines() if not line.startswith(\"#\")]  # Skip comment lines\n",
    "        best_fit = [float(x) for x in lines[0].split()]  # Extract numbers from the first row of value\n",
    "        inc, PA, dRA, dDec = best_fit  # Unpack the values ,excluding the rows below corresponding to errors\n",
    "        return inc, PA, (dRA, dDec)   \n",
    "\n",
    "    def load_residuals(self):\n",
    "        \"\"\"\n",
    "        Load all .fits residuals in the folder and store them by Briggs Index.\n",
    "        \"\"\"\n",
    "        for fname in os.listdir(self.path):\n",
    "            if fname.endswith(\".fits\"):\n",
    "                match = re.search(r\"robust([-\\d.]+)\", fname)\n",
    "                briggs_index = match.group(1) if match else \"unknown\"\n",
    "                full_path = os.path.join(self.path, fname)\n",
    "                with fits.open(full_path) as hdul:\n",
    "                    self.residuals[briggs_index] = hdul[0].data\n",
    "    \n",
    "    def get_cube(self, robust_val, FOV=10.0):\n",
    "        \"\"\"\n",
    "        Returns a GoFish ImageCube corresponding to the disk name and given Briggs (robust) index.\n",
    "        \"\"\"\n",
    "\n",
    "        fname = f\"{self.name}_continuum_resid_robust{robust_val}.image.fits\"\n",
    "        full_path = os.path.join(self.path, fname)\n",
    "        return imagecube(full_path, FOV=FOV)\n",
    "                    \n",
    "\n"
   ]
  },
  {
   "cell_type": "code",
   "execution_count": 8,
   "id": "8a8544dd",
   "metadata": {},
   "outputs": [
    {
     "name": "stdout",
     "output_type": "stream",
     "text": [
      "DiskResiduals is a class that contains 15 disks with their residuals loaded. \n",
      "all_disks is a dictionary with disk names as keys and DiskResiduals objects as values.\n",
      "disk_obj is an object of DiskResiduals class that contains the residuals and geometries for each disk.\n"
     ]
    }
   ],
   "source": [
    "# -----------------------------------------------------\n",
    "# Load all disks into a dictionary of DiskResiduals objects\n",
    "# -----------------------------------------------------\n",
    "data_dir = \"D:/exoALMA_disk_data\"  # Use forward slashes for Windows or raw string\n",
    "all_disks = {}\n",
    "\n",
    "for disk in os.listdir(data_dir):\n",
    "    res_path = os.path.join(data_dir, disk, \"images_frank_residuals_different_robust\")\n",
    "    geom_file = os.path.join(data_dir, disk, f\"{disk}_geometrical_parameters_continuum_galario.txt\")\n",
    "\n",
    "    if os.path.isdir(res_path) and os.path.exists(geom_file):\n",
    "        disk_obj = DiskResiduals(disk, res_path, geom_file)\n",
    "        disk_obj.load_residuals()  # geometry alreadt loaded in __init__\n",
    "        all_disks[disk] = disk_obj\n",
    "\n",
    "print(f\"DiskResiduals is a class that contains {len(all_disks)} disks with their residuals loaded. \\nall_disks is a dictionary with disk names as keys and DiskResiduals objects as values.\\ndisk_obj is an object of DiskResiduals class that contains the residuals and geometries for each disk.\")"
   ]
  },
  {
   "cell_type": "code",
   "execution_count": 9,
   "id": "a674f11d",
   "metadata": {},
   "outputs": [
    {
     "name": "stdout",
     "output_type": "stream",
     "text": [
      "Disk: AA_Tau\n",
      "  Inclination: 58.54 deg\n",
      "  PA: 93.77 deg\n",
      "  Center offset: (-0.00545897, 0.00482739)\n",
      "  Residuals (Briggs indices): ['0.0.', '-0.5.', '0.5.', '-1.0.', '1.0.', '-1.5.', '-2.0.', '2.0.']\n",
      "----------------------------------------\n",
      "Disk: CQ_Tau\n",
      "  Inclination: 35.24 deg\n",
      "  PA: 53.87 deg\n",
      "  Center offset: (-0.00871044, 0.0009941)\n",
      "  Residuals (Briggs indices): ['0.0.', '-0.5.', '0.5.', '-1.0.', '1.0.', '-1.5.', '1.5.', '-2.0.', '2.0.']\n",
      "----------------------------------------\n",
      "Disk: DM_Tau\n",
      "  Inclination: 35.97 deg\n",
      "  PA: 155.60 deg\n",
      "  Center offset: (-0.00551499, -0.00658999)\n",
      "  Residuals (Briggs indices): ['0.0.', '-0.5.', '0.5.', '-1.0.', '1.0.', '-1.5.', '1.5.', '-2.0.', '2.0.']\n",
      "----------------------------------------\n",
      "Disk: HD_135344B\n",
      "  Inclination: 20.73 deg\n",
      "  PA: 28.92 deg\n",
      "  Center offset: (0.0007974, -0.00320815)\n",
      "  Residuals (Briggs indices): ['0.0.', '-0.5.', '0.5.', '-1.0.', '1.0.', '-1.5.', '1.5.', '-2.0.', '2.0.']\n",
      "----------------------------------------\n",
      "Disk: HD_143006\n",
      "  Inclination: 18.69 deg\n",
      "  PA: 7.53 deg\n",
      "  Center offset: (0.00826703, 0.02642291)\n",
      "  Residuals (Briggs indices): ['0.0.', '-0.5.', '0.5.', '-1.0.', '1.0.', '-1.5.', '1.5.', '-2.0.', '2.0.']\n",
      "----------------------------------------\n",
      "Disk: HD_34282\n",
      "  Inclination: 59.82 deg\n",
      "  PA: 117.80 deg\n",
      "  Center offset: (0.01282042, 0.00837812)\n",
      "  Residuals (Briggs indices): ['0.0.', '-0.5.', '0.5.', '-1.0.', '1.0.', '-1.5.', '1.5.', '-2.0.', '2.0.']\n",
      "----------------------------------------\n",
      "Disk: J1604\n",
      "  Inclination: 8.72 deg\n",
      "  PA: 123.24 deg\n",
      "  Center offset: (-0.07482211, -0.01666589)\n",
      "  Residuals (Briggs indices): ['0.0.', '-0.5.', '0.5.', '-1.0.', '1.0.', '-1.5.', '1.5.', '-2.0.', '2.0.']\n",
      "----------------------------------------\n",
      "Disk: J1615\n",
      "  Inclination: 47.10 deg\n",
      "  PA: 146.14 deg\n",
      "  Center offset: (-0.04431726, -0.00588429)\n",
      "  Residuals (Briggs indices): ['0.0.', '-0.5.', '0.5.', '-1.0.', '1.0.', '-1.5.', '1.5.', '-2.0.', '2.0.']\n",
      "----------------------------------------\n",
      "Disk: J1842\n",
      "  Inclination: 39.22 deg\n",
      "  PA: 26.35 deg\n",
      "  Center offset: (-0.00316491, -0.03068915)\n",
      "  Residuals (Briggs indices): ['0.0.', '-0.5.', '0.5.', '-1.0.', '1.0.', '-1.5.', '1.5.', '-2.0.', '2.0.']\n",
      "----------------------------------------\n",
      "Disk: J1852\n",
      "  Inclination: 32.50 deg\n",
      "  PA: 117.61 deg\n",
      "  Center offset: (-0.02340882, 0.00190753)\n",
      "  Residuals (Briggs indices): ['0.0.', '-0.5.', '0.5.', '-1.0.', '1.0.', '-1.5.', '1.5.', '-2.0.', '2.0.']\n",
      "----------------------------------------\n",
      "Disk: LkCa_15\n",
      "  Inclination: 50.59 deg\n",
      "  PA: 61.57 deg\n",
      "  Center offset: (-0.01684397, 0.02082818)\n",
      "  Residuals (Briggs indices): ['0.0.', '-0.5.', '0.5.', '-1.0.', '1.0.', '-1.5.', '1.5.', '-2.0.', '2.0.']\n",
      "----------------------------------------\n",
      "Disk: MWC_758\n",
      "  Inclination: 7.27 deg\n",
      "  PA: 76.17 deg\n",
      "  Center offset: (0.02548176, 0.01841853)\n",
      "  Residuals (Briggs indices): ['0.0.', '-0.5.', '0.5.', '-1.0.', '1.0.', '-1.5.', '1.5.', '-2.0.', '2.0.']\n",
      "----------------------------------------\n",
      "Disk: PDS_66\n",
      "  Inclination: 32.02 deg\n",
      "  PA: 8.91 deg\n",
      "  Center offset: (-0.00358921, 0.00667634)\n",
      "  Residuals (Briggs indices): ['0.0.', '-0.5.', '0.5.', '-1.0.', '1.0.', '-1.5.', '1.5.', '-2.0.', '2.0.']\n",
      "----------------------------------------\n",
      "Disk: SY_Cha\n",
      "  Inclination: 51.65 deg\n",
      "  PA: 165.77 deg\n",
      "  Center offset: (-0.01265537, 0.02815886)\n",
      "  Residuals (Briggs indices): ['0.0.', '-0.5.', '0.5.', '-1.0.', '1.0.', '-1.5.', '1.5.', '-2.0.', '2.0.']\n",
      "----------------------------------------\n",
      "Disk: V4046_Sgr\n",
      "  Inclination: 33.36 deg\n",
      "  PA: 76.02 deg\n",
      "  Center offset: (-0.05093653, -0.04518314)\n",
      "  Residuals (Briggs indices): ['0.0.', '-0.5.', '0.5.', '-1.0.', '1.0.', '-1.5.', '1.5.', '-2.0.', '2.0.']\n",
      "----------------------------------------\n"
     ]
    }
   ],
   "source": [
    "# Display a summary of all_disks objects\n",
    "\n",
    "for disk_name, disk_obj in all_disks.items():\n",
    "    print(f\"Disk: {disk_name}\")\n",
    "    print(f\"  Inclination: {disk_obj.inc:.2f} deg\")\n",
    "    print(f\"  PA: {disk_obj.PA:.2f} deg\")\n",
    "    print(f\"  Center offset: {disk_obj.center}\")  # .center is a tuple (dRA, dDec)\n",
    "    print(f\"  Residuals (Briggs indices): {list(disk_obj.residuals.keys())}\") # .keys() to get the keys of the dictionary , list() to convert it to a list, keys are the Briggs indices , apart from keys are the values of the dictionary which are the FITS data\n",
    "    print(\"-\" * 40)"
   ]
  },
  {
   "cell_type": "code",
   "execution_count": 10,
   "id": "812fac67",
   "metadata": {},
   "outputs": [],
   "source": [
    "# Plot the residual radial profile for each disk overlaid on the full disk profile\n",
    "# Need to add the geometry of the disk to the class\n",
    "# add a method to the class to plot the residual radial profile\n",
    "# change the class to not only store the residuals, but all the information about the disk\n",
    "# and label them clearly\n",
    "# Problem: the displayed image is not the same as shown in paper, this has units of flux, that one is SNR"
   ]
  },
  {
   "cell_type": "markdown",
   "id": "76eb5a25",
   "metadata": {},
   "source": [
    "The frank model generates synthetic visibilities, which are subtracted from the observed visibilities to produce residual visibilities. These residuals are then imaged using the CLEAN algorithm, resulting in a residual map. Like other radio continuum images, this map has units of flux density per beam (e.g., Jy/beam). To express the residuals in terms of signal-to-noise ratio (SNR), as done in Figure 3 of the exoALMA IV paper, the observed rms noise corresponding to each robust weighting must be extracted from the original image and used to rescale the residual flux densities.\n",
    "\n",
    "However, since protoplanetary disks are best studied in concentric radial rings from the central star, it's important to consider that the noise level varies with radius. At larger disk radii, more ALMA beams cover each ring, which reduces the azimuthally averaged noise. In contrast, the inner disk tends to show brighter emission but fewer independent beams per bin. Therefore, the azimuthally averaged rms noise within each radial ring provides the most effective way to separate planet-induced substructure signals from noise."
   ]
  },
  {
   "cell_type": "markdown",
   "id": "66777d71",
   "metadata": {},
   "source": [
    "Anyways, think of a way to add the clean cub and residual cube tgt without messing up the naming too."
   ]
  },
  {
   "cell_type": "code",
   "execution_count": null,
   "metadata": {},
   "outputs": [],
   "source": []
  },
  {
   "cell_type": "code",
   "execution_count": null,
   "id": "d8b6585b",
   "metadata": {},
   "outputs": [
    {
     "name": "stdout",
     "output_type": "stream",
     "text": [
      "WARNING: Provided cube is only 2D. Shifting not available.\n",
      "WARNING: Attached data is not 3D, so shifting cannot be applied.\n",
      "\t Reverting to standard azimuthal averaging; will ignore `unit` argument.\n"
     ]
    },
    {
     "data": {
      "text/plain": [
       "Text(0, 0.5, 'Intensity (Jy sr^-1)')"
      ]
     },
     "execution_count": 13,
     "metadata": {},
     "output_type": "execute_result"
    },
    {
     "data": {
      "image/png": "[encoded data removed]",
      "text/plain": [
       "<Figure size 640x480 with 1 Axes>"
      ]
     },
     "metadata": {},
     "output_type": "display_data"
    }
   ],
   "source": [
    "# A simple example plot of the nonaxisymmetric residuals for disk AA_Tau with robust value 0.5\n",
    "# Adapting from section 4.2 of the exoALMA X paper\n",
    "\n",
    "\n",
    "residual_cube_AA_Tau_2 = all_disks[\"AA_Tau\"].get_cube(\"2.0\")\n",
    "#cube = imagecube('D:\\exoALMA_disk_data\\AA_Tau\\images_frank_residuals_different_robust\\AA_Tau_continuum_resid_robust0.5.image.fits', FOV=10.0)\n",
    "\n",
    "x, y, dy = cube.radial_profile(inc=58.54, PA=93.77)\n",
    "\n",
    "fig, ax = plt.subplots(constrained_layout=True)\n",
    "ax.errorbar(x, y, dy)\n",
    "ax.set_yscale('log')\n",
    "ax.set_xlabel('Radius (au)')  # nope, please be in au\n",
    "ax.set_ylabel('Intensity (Jy sr^-1)')\n",
    "\n",
    "\n",
    "\n",
    "# First , plot the full disk profile -> change the axes labels and calculations -> load the residuals \n"
   ]
  },
  {
   "cell_type": "code",
   "execution_count": null,
   "id": "82363d60",
   "metadata": {},
   "outputs": [],
   "source": []
  }
 ],
 "metadata": {
  "kernelspec": {
   "display_name": "Python 3",
   "language": "python",
   "name": "python3"
  },
  "language_info": {
   "codemirror_mode": {
    "name": "ipython",
    "version": 3
   },
   "file_extension": ".py",
   "mimetype": "text/x-python",
   "name": "python",
   "nbconvert_exporter": "python",
   "pygments_lexer": "ipython3",
   "version": "3.12.8"
  }
 },
 "nbformat": 4,
 "nbformat_minor": 5
}
