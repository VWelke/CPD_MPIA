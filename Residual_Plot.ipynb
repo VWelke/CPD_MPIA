{
 "cells": [
  {
   "cell_type": "markdown",
   "id": "5e9149ce",
   "metadata": {},
   "source": [
    "# Residual Plot Analysis — ExoALMA Data\n",
    "\n",
    "This notebook analyzes residual plots from the ExoALMA program (Curone et al. 2025, Paper IV) to extract flux limits potentially associated with planet-forming signatures within the annuli of protoplanetary disks. The aim is not to spatially characterize these features — which are likely unresolved — but to constrain potential circumplanetary disk (CPD) properties using up-to-date CPD emission models, and to compare model performance in terms of predictive power.\n",
    "\n",
    "**Reference**:  \n",
    "Curone, P., Facchini, S., Andrews, S. M., et al. (2025). *exoALMA. IV. Substructures, Asymmetries, and the Faint Outer Disk in Continuum Emission*. *The Astrophysical Journal Letters*, **984**(1), L9. https://doi.org/10.3847/2041-8213/adc438\n"
   ]
  },
  {
   "cell_type": "code",
   "execution_count": 9,
   "id": "989a3f01",
   "metadata": {},
   "outputs": [],
   "source": [
    "# import necessary libraries\n",
    "\n",
    "import os  \n",
    "import numpy as np  \n",
    "import re  # Python’s regular expressions module to extract numbers from filenames\n",
    "from astropy.io import fits\n",
    "import pandas as pd\n",
    "from gofish import imagecube\n",
    "import matplotlib.pyplot as plt\n",
    "\n"
   ]
  },
  {
   "cell_type": "code",
   "execution_count": 2,
   "id": "6084eb63",
   "metadata": {},
   "outputs": [
    {
     "name": "stderr",
     "output_type": "stream",
     "text": [
      "<>:35: SyntaxWarning: invalid escape sequence '\\e'\n",
      "<>:35: SyntaxWarning: invalid escape sequence '\\e'\n",
      "C:\\Users\\LHEM\\AppData\\Local\\Temp\\ipykernel_5240\\2754208037.py:35: SyntaxWarning: invalid escape sequence '\\e'\n",
      "  data_dir = \"D:\\exoALMA_disk_data\"\n"
     ]
    }
   ],
   "source": [
    "# Load the residual fits file for each disk and store them in class then in object  \n",
    "\n",
    "# --------------------------------------------------------\n",
    "# Define a class (stores functions) for handling each disk\n",
    "# --------------------------------------------------------\n",
    "class DiskResiduals:\n",
    "    def __init__(self, name, path):\n",
    "        \"\"\"\n",
    "        Initializes a DiskResiduals object for one disk.\n",
    "        - name: Disk name (e.g., 'AA_Tau')\n",
    "        - path: Path to its residuals folder\n",
    "        \"\"\"\n",
    "        self.name = name\n",
    "        self.path = path\n",
    "        self.residuals = {}  # Dict to store {Briggs index value: FITS data}\n",
    "\n",
    "    def load_residuals(self):\n",
    "        \"\"\"\n",
    "        Load all .fits residuals in the folder and store them by Briggs Index.\n",
    "        \"\"\"\n",
    "        for fname in os.listdir(self.path):\n",
    "            if fname.endswith(\".fits\"):\n",
    "                # Extract robust value from filename\n",
    "                match = re.search(r\"robust([-\\d.]+)\", fname)   # [-\\d.]+ captures the robust value, \\digits, - for negative values, and . for decimal points\n",
    "                briggs_index = match.group(1) if match else \"unknown\"   #returns the value or \"unknown\" if not found\n",
    "\n",
    "                # Load FITS data (first HDU)\n",
    "                full_path = os.path.join(self.path, fname)\n",
    "                with fits.open(full_path) as hdul: #hdul is a list of HDUs in the FITS file\n",
    "                    self.residuals[briggs_index] = hdul[0].data \n",
    "\n",
    "# -----------------------------------------------------\n",
    "# Load all disks into a dictionary of DiskResiduals objects\n",
    "# -----------------------------------------------------\n",
    "data_dir = \"D:\\exoALMA_disk_data\"  \n",
    "all_disks = {}\n",
    "\n",
    "for disk in os.listdir(data_dir):   \n",
    "    # Residuals folder for each disk\n",
    "    res_path = os.path.join(data_dir, disk, \"images_frank_residuals_different_robust\")\n",
    "    \n",
    "    if os.path.isdir(res_path):\n",
    "        disk_obj = DiskResiduals(disk, res_path)  # Store disk name and path from the class to residuals\n",
    "        disk_obj.load_residuals()   # function previously defined\n",
    "        all_disks[disk] = disk_obj   # Return a residual folder for each disk name in the dictionary\n",
    "\n"
   ]
  },
  {
   "cell_type": "code",
   "execution_count": null,
   "id": "812fac67",
   "metadata": {},
   "outputs": [],
   "source": [
    "# Plot the residual radial profile for each disk overlaid on the full disk profile\n",
    "# Need to add the geometry of the disk to the class\n",
    "# add a method to the class to plot the residual radial profile\n",
    "# change the class to not only store the residuals, but all the information about the disk\n",
    "# and label them clearly\n",
    "# Problem: the displayed image is not the same as shown in paper, this has units of flux, that one is SNR"
   ]
  },
  {
   "cell_type": "markdown",
   "id": "76eb5a25",
   "metadata": {},
   "source": [
    "The frank model generates synthetic visibilities, which are then subtracted from the observed visibilities to produce residual visibilities . These residual visibilities are subsequently imaged using the CLEAN algorithm, resulting in a residual map . This map, like other images in radio astronomy, has units of flux density per beam, such as Jy/beam. Therefore to quantify it in terms of SNR ratio such the displayed figure 3 of exoALMA IV paper, the rms noise for each robust value has to be extracted from the original image, to rescale the flux density in the original image. However, consider that noise is "
   ]
  },
  {
   "cell_type": "code",
   "execution_count": null,
   "id": "d8b6585b",
   "metadata": {},
   "outputs": [
    {
     "name": "stdout",
     "output_type": "stream",
     "text": [
      "Filename: D:\\exoALMA_disk_data\\AA_Tau\\images_frank_residuals_different_robust\\AA_Tau_continuum_resid_robust0.5.image.fits\n",
      "No.    Name      Ver    Type      Cards   Dimensions   Format\n",
      "  0  PRIMARY       1 PrimaryHDU     444   (1024, 1024, 1, 1)   float32   \n"
     ]
    },
    {
     "name": "stdout",
     "output_type": "stream",
     "text": [
      "WARNING: Provided cube is only 2D. Shifting not available.\n"
     ]
    }
   ],
   "source": [
    "# A simple example plot of the nonaxisymmetric residuals for disk AA_Tau with robust value 0.5\n",
    "# Adapting from section 4.2 of the exoALMA X paper\n",
    "\n",
    "\n",
    "\n",
    "\n",
    "cube = imagecube('D:\\exoALMA_disk_data\\AA_Tau\\images_frank_residuals_different_robust\\AA_Tau_continuum_resid_robust0.5.image.fits', FOV=10.0)\n",
    "\n",
    "\n",
    "\n"
   ]
  },
  {
   "cell_type": "code",
   "execution_count": null,
   "id": "82363d60",
   "metadata": {},
   "outputs": [],
   "source": []
  }
 ],
 "metadata": {
  "kernelspec": {
   "display_name": "Python 3",
   "language": "python",
   "name": "python3"
  },
  "language_info": {
   "codemirror_mode": {
    "name": "ipython",
    "version": 3
   },
   "file_extension": ".py",
   "mimetype": "text/x-python",
   "name": "python",
   "nbconvert_exporter": "python",
   "pygments_lexer": "ipython3",
   "version": "3.12.8"
  }
 },
 "nbformat": 4,
 "nbformat_minor": 5
}
